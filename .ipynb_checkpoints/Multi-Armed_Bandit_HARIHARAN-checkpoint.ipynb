{
 "cells": [
  {
   "cell_type": "markdown",
   "metadata": {},
   "source": [
    "Multi Armed Bandit\n",
    "===="
   ]
  },
  {
   "cell_type": "markdown",
   "metadata": {},
   "source": [
    "We formulate a simple bandit scheme involving 2 Machines and a Bernoulli Reward (0 or 1). Each Machine has a latent parameter governing its reward. There are a few possible goals:\n",
    "\n",
    "1. Maximize Total Expected Rewards over N Trials\n",
    "2. Find the \"Best\" Machine in as few trials as possible\n",
    "3. Minimize \"Regret\" = Actual Reward - Reward of Best Action over N Trails\n",
    "\n",
    "We designate the following:\n",
    "\n",
    "$$R_1 = \\text{Reward from Machine 1} \\sim \\text{Bernoulli}(\\theta_1)$$\n",
    "$$R_2 = \\text{Reward from Machine 2} \\sim \\text{Bernoulli}(\\theta_2)$$\n",
    "\n",
    "$$\\theta_1 \\sim \\text{Beta}(\\alpha_1, \\beta_1)$$\n",
    "$$\\theta_2 \\sim \\text{Beta}(\\alpha_2, \\beta_2)$$\n",
    "\n",
    "In the beginning, we have no prior knowledge about either Machine, or more specifically, about the latent parameter governing each Machine. Therefore, we initially set $\\alpha_1, \\alpha_2, \\beta_1, \\beta_2 = 1$\n",
    "\n",
    "Given our goals above, the main question becomes: **How do we choose which Machine to play in each Iteration?** We will refer to this question as our utility or acquisition function $U(\\theta | X) = U(\\alpha_1, \\beta_1, \\alpha_2, \\beta_2 | X)$. The idea of this function is to weigh both exploitation of Machines we know give out a high reward, and exploration of other Machines that could possibly be better."
   ]
  },
  {
   "cell_type": "markdown",
   "metadata": {},
   "source": [
    "As we begin playing and gathering information, we continuously update our parameters of interest based on the outcome. Specifically:\n",
    "\n",
    "1. $U(\\alpha_1, \\beta_1, \\alpha_2, \\beta_2) = j$ \n",
    "    * ( We choose Machine j )\n",
    "2. $R_j = i$  \n",
    "    * ( We play Machine j, and get Reward i )\n",
    "3. If $R_j = 1$:\n",
    "    $\\alpha_j = \\alpha_j + 1$  \n",
    "4. If $R_j = 0$:\n",
    "    $\\beta_j = \\beta_j + 1$  \n",
    "\n",
    "The idea is to update our prior \"belief\" on the success of the individual Machines based on our empirical rewards. $\\alpha$ represents \"success\", while $\\beta$ represents \"failure\""
   ]
  },
  {
   "cell_type": "markdown",
   "metadata": {},
   "source": [
    "Before we discuss how to construct our Acquisition Function $U(\\theta|X)$ which will help us decide which Machine to play at each iteration, we see two interesting points:\n",
    "\n",
    "At time T = 1, we have no prior belief concerning any Machine. Thus, it will not matter which Machine we pick the first time around, though it will influence all subsequent choices.\n",
    "\n",
    "At time T = N, we are at our final trial, and thus are only concerned for the Reward on this trial. As such, we will opt for a **Greedy** approach and pick the Machine with the highest Expected Reward - max($\\frac{\\alpha_1}{\\alpha_1 + \\beta_1}, \\frac{\\alpha_2}{\\alpha_2 + \\beta_2}$)"
   ]
  },
  {
   "cell_type": "markdown",
   "metadata": {},
   "source": [
    "For times T = 2,...,N-1, we must choose the Machine based on the Expected Sum of Future Rewards, based on our framework above: $\\mathbb{E}(\\displaystyle\\sum_{i=1}^{n} R_i)$\n",
    "\n",
    "At time T = t, $\\mathbb{E}(\\displaystyle\\sum_{i=t}^{n} R_i|M_{1:t-1}, R_{1:t-1})$ = $\\mathbb{E}(\\displaystyle\\sum_{i=t+1}^{n} R_i|\\theta)$ + $\\mathbb{E}(R_t|\\theta)$  \n",
    "$M_{1:t}$ = Machines Chosen from times 1 to t  \n",
    "$R_{1:t}$ = Rewards Given from times 1 to t\n",
    "\n",
    "Given we perform N Trials, we construct our Algorithm in a Backwards Fashion:\n",
    "\n",
    "1. For T = N:\n",
    "    * For each node, we choose the **Greedy** option, that is, the one with the maximum expected return.\n",
    "\n",
    "2. For T = N-1\n",
    "    * Given that we know the most optimal choice for the last Trial, we select the Machine on this trial that will give us the maximum Expected **sum** of Rewards\n",
    "    * $\\mathbb{E}(R_{N-1} + R_{N})$, and we know $R_N$ from the previous iteration\n",
    "    \n",
    "3. For T = N-2,...,2:\n",
    "    * We follow the similar intuition as above, choosing the most optimal choice for the maximum Expected sum of rewards, given the optimal choice for all subseqent trials already calculated\n",
    "    * $\\mathbb{E}(\\displaystyle\\sum_{i=T}^{n} R_i)$ = $\\mathbb{E}(\\displaystyle\\sum_{i=t+1}^{n} R_i)$ + $\\mathbb{E}(R_t)$\n",
    "    \n",
    "4. For T = 1:\n",
    "    * From our above note, the first iteration does not matter, as we have no prior knowledge. We select any Machine at random.\n"
   ]
  },
  {
   "cell_type": "code",
   "execution_count": 1,
   "metadata": {
    "collapsed": true
   },
   "outputs": [],
   "source": [
    "import matplotlib.pyplot as plt\n",
    "%matplotlib inline\n",
    "from sklearn.gaussian_process import GaussianProcess\n",
    "import numpy as np\n",
    "import pandas as pd\n",
    "from scipy.optimize import minimize_scalar"
   ]
  },
  {
   "cell_type": "code",
   "execution_count": 233,
   "metadata": {
    "collapsed": false,
    "scrolled": true
   },
   "outputs": [
    {
     "name": "stdout",
     "output_type": "stream",
     "text": [
      "Trial 1 :  1\n",
      "Trial 2 :  4\n",
      "Trial 3 :  10\n",
      "Trial 4 :  20\n",
      "Trial 5 :  35\n",
      "Trial 6 :  56\n",
      "Trial 7 :  84\n",
      "Trial 8 :  120\n",
      "Trial 9 :  165\n",
      "Trial 10 :  220\n"
     ]
    }
   ],
   "source": [
    "#Code to Generate Number of Nodes at Trial n#\n",
    "def f(a, b, c, d, n):\n",
    "    if n == 1:\n",
    "        return pd.DataFrame(np.array([a,b,c,d])).T\n",
    "    A = [a+1, b, c, d]\n",
    "    B = [a, b+1, c, d]\n",
    "    C = [a, b, c+1, d]\n",
    "    D = [a, b, c, d+1]\n",
    "    Nodes = pd.DataFrame(np.array([A, B, C, D]))\n",
    "    for j in range(2,n):\n",
    "        X = Nodes.shape[0]\n",
    "        Nodes2 = pd.DataFrame()\n",
    "        for i in range(X):\n",
    "            A = Nodes.ix[i,:] + np.array([1,0,0,0])\n",
    "            B = Nodes.ix[i,:] + np.array([0,1,0,0])\n",
    "            C = Nodes.ix[i,:] + np.array([0,0,1,0])\n",
    "            D = Nodes.ix[i,:] + np.array([0,0,0,1]) \n",
    "            Nodes2 = pd.concat([Nodes2, pd.DataFrame(np.array([A, B, C, D]))])\n",
    "        Nodes = pd.DataFrame(pd.DataFrame.drop_duplicates(Nodes2)).reset_index(drop = True)\n",
    "    return Nodes\n",
    "    \n",
    "def num_nodes(n):    \n",
    "    for i in range(n):\n",
    "        print(\"Trial\",i+1,\": \", f(1,1,1,1,i+1).shape[0])\n",
    "            \n",
    "num_nodes(10)"
   ]
  },
  {
   "cell_type": "code",
   "execution_count": 363,
   "metadata": {
    "collapsed": false,
    "scrolled": true
   },
   "outputs": [],
   "source": [
    "def minimize_func(p, E1, E2, E3, E4):\n",
    "    return(-(p*(1 + E1) + p*(0 + E2) + (1-p)*(1 + E3) + (1-p)*(0 + E4)))\n",
    "\n",
    "#Returns Previous Nodes, Finds best choice of machine based on future rewards\n",
    "def Previous_Nodes_Func(a1, b1, a2, b2, N, Final_Nodes):\n",
    "    Previous_Nodes = f(a1,b1,a2,b2,N)\n",
    "    Previous_Nodes.insert(4, 4, 0)\n",
    "    Previous_Nodes.insert(5, 5, 0)\n",
    "    for j in range(Previous_Nodes.shape[0]):\n",
    "        Node = Previous_Nodes.ix[j,0:3]\n",
    "        A = Node + np.array([1,0,0,0])\n",
    "        B = Node + np.array([0,1,0,0])\n",
    "        C = Node + np.array([0,0,1,0])\n",
    "        D = Node + np.array([0,0,0,1])\n",
    "            \n",
    "        E1 = Final_Nodes.values[np.alltrue(Final_Nodes.ix[:,0:3] == A, axis = 1),4]\n",
    "        E2 = Final_Nodes.values[np.alltrue(Final_Nodes.ix[:,0:3] == B, axis = 1),4]\n",
    "        E3 = Final_Nodes.values[np.alltrue(Final_Nodes.ix[:,0:3] == C, axis = 1),4]\n",
    "        E4 = Final_Nodes.values[np.alltrue(Final_Nodes.ix[:,0:3] == D, axis = 1),4]\n",
    "            \n",
    "        choice = np.round(minimize_scalar(minimize_func, method = 'bounded', bounds = [0,1], args = (E1, E2, E3, E4)).x)\n",
    "        Previous_Nodes.ix[j,4] = -minimize_func(choice, E1, E2, E3, E4)\n",
    "        Previous_Nodes.ix[j,5] = choice\n",
    "        \n",
    "    return(Previous_Nodes)\n",
    "\n",
    "#Input:\n",
    "#a1,b1,a2,b2 - Prior Parameters of Machine at CURRENT TRIAL\n",
    "#N - Number of Trials Remaining\n",
    "#\n",
    "#Output:\n",
    "#Choice of Machine at Current Iteration & Expected Sum of Rewards\n",
    "def Bernoulli_Bandit(a1, b1, a2, b2, N):   \n",
    "    \n",
    "    #Create Data Frame of Final Nodes\n",
    "    Final_Nodes = f(a1,b1,a2,b2,N)\n",
    "    \n",
    "    #Create Empty Column to Hold Expected#\n",
    "    Final_Nodes.insert(4, 4, 0)\n",
    "    \n",
    "    #Add Column of Final Expected Result\n",
    "    for i in range(Final_Nodes.shape[0]):\n",
    "        E_1 = Final_Nodes.ix[i,0]/(Final_Nodes.ix[i,0]+Final_Nodes.ix[i,1])\n",
    "        E_2 = Final_Nodes.ix[i,2]/(Final_Nodes.ix[i,2]+Final_Nodes.ix[i,3])\n",
    "        Final_Nodes.ix[i,4] = max(E_1, E_2)\n",
    "\n",
    "    Previous_Node = Final_Nodes\n",
    "    \n",
    "    for j in range(1,N)[::-1]:\n",
    "        Previous_Node = Previous_Nodes_Func(a1, b1, a2, b2, j, Previous_Node)\n",
    "    \n",
    "    return(Previous_Node)"
   ]
  },
  {
   "cell_type": "code",
   "execution_count": 324,
   "metadata": {
    "collapsed": false
   },
   "outputs": [
    {
     "data": {
      "text/html": [
       "<div>\n",
       "<table border=\"1\" class=\"dataframe\">\n",
       "  <thead>\n",
       "    <tr style=\"text-align: right;\">\n",
       "      <th></th>\n",
       "      <th>0</th>\n",
       "      <th>1</th>\n",
       "      <th>2</th>\n",
       "      <th>3</th>\n",
       "      <th>4</th>\n",
       "      <th>5</th>\n",
       "    </tr>\n",
       "  </thead>\n",
       "  <tbody>\n",
       "    <tr>\n",
       "      <th>0</th>\n",
       "      <td>3</td>\n",
       "      <td>2</td>\n",
       "      <td>1</td>\n",
       "      <td>1</td>\n",
       "      <td>2.333333</td>\n",
       "      <td>1</td>\n",
       "    </tr>\n",
       "    <tr>\n",
       "      <th>1</th>\n",
       "      <td>2</td>\n",
       "      <td>3</td>\n",
       "      <td>1</td>\n",
       "      <td>1</td>\n",
       "      <td>2.166667</td>\n",
       "      <td>1</td>\n",
       "    </tr>\n",
       "    <tr>\n",
       "      <th>2</th>\n",
       "      <td>2</td>\n",
       "      <td>2</td>\n",
       "      <td>2</td>\n",
       "      <td>1</td>\n",
       "      <td>2.416667</td>\n",
       "      <td>1</td>\n",
       "    </tr>\n",
       "    <tr>\n",
       "      <th>3</th>\n",
       "      <td>2</td>\n",
       "      <td>2</td>\n",
       "      <td>1</td>\n",
       "      <td>2</td>\n",
       "      <td>2.100000</td>\n",
       "      <td>1</td>\n",
       "    </tr>\n",
       "  </tbody>\n",
       "</table>\n",
       "</div>"
      ],
      "text/plain": [
       "   0  1  2  3         4  5\n",
       "0  3  2  1  1  2.333333  1\n",
       "1  2  3  1  1  2.166667  1\n",
       "2  2  2  2  1  2.416667  1\n",
       "3  2  2  1  2  2.100000  1"
      ]
     },
     "execution_count": 324,
     "metadata": {},
     "output_type": "execute_result"
    }
   ],
   "source": [
    "Previous_Nodes"
   ]
  },
  {
   "cell_type": "code",
   "execution_count": 317,
   "metadata": {
    "collapsed": false
   },
   "outputs": [
    {
     "data": {
      "image/png": "[encoded data removed]",
      "text/plain": [
       "<matplotlib.figure.Figure at 0x7f2d41fa47f0>"
      ]
     },
     "metadata": {},
     "output_type": "display_data"
    }
   ],
   "source": [
    "##Gaussian Process Code - Unfinished##\n",
    "\n",
    "# Observations\n",
    "y = np.array([1,6])\n",
    "X = np.atleast_2d([2,5]).T\n",
    "\n",
    "# Mesh the input space for evaluations of the real function, the prediction and\n",
    "# its MSE\n",
    "x = np.atleast_2d(np.linspace(0, 10, 1000)).T\n",
    "\n",
    "# Instanciate a Gaussian Process model\n",
    "gp = GaussianProcess(corr='cubic', theta0=1e-2, thetaL=1e-4, thetaU=1e-1,\n",
    "                     random_start=100)\n",
    "\n",
    "# Fit to data using Maximum Likelihood Estimation of the parameters\n",
    "gp.fit(X, y)\n",
    "\n",
    "# Make the prediction on the meshed x-axis (ask for MSE as well)\n",
    "y_pred, MSE = gp.predict(x, eval_MSE=True)\n",
    "sigma = np.sqrt(MSE)\n",
    "\n",
    "#plt.plot(x, f(x), 'r:', label=u'$f(x) = x\\,\\sin(x)$')\n",
    "plt.plot(X, y, 'r.', markersize=10, label=u'Observations')\n",
    "plt.plot(x, y_pred, 'b-', label=u'Prediction')\n",
    "plt.fill(np.concatenate([x, x[::-1]]),\n",
    "        np.concatenate([y_pred - 1.96 * sigma,\n",
    "                       (y_pred + 1.96 * sigma)[::-1]]),\n",
    "        alpha=.5, fc='b', ec='None', label='95% confidence interval')\n",
    "pass"
   ]
  }
 ],
 "metadata": {
  "kernelspec": {
   "display_name": "Python 2",
   "language": "python",
   "name": "python2"
  },
  "language_info": {
   "codemirror_mode": {
    "name": "ipython",
    "version": 2
   },
   "file_extension": ".py",
   "mimetype": "text/x-python",
   "name": "python",
   "nbconvert_exporter": "python",
   "pygments_lexer": "ipython2",
   "version": "2.7.10"
  }
 },
 "nbformat": 4,
 "nbformat_minor": 0
}
