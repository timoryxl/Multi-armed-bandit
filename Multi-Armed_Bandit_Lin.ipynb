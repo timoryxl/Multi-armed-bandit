{
 "cells": [
  {
   "cell_type": "markdown",
   "metadata": {},
   "source": [
    "Multi Armed Bandit\n",
    "===="
   ]
  },
  {
   "cell_type": "code",
   "execution_count": 1,
   "metadata": {
    "collapsed": false
   },
   "outputs": [],
   "source": [
    "##Gaussian Process Code##\n",
    "\n",
    "%matplotlib inline\n",
    "import numpy as np\n",
    "from sklearn import gaussian_process\n",
    "import matplotlib.pyplot as plt\n",
    "from scipy.stats import norm\n",
    "import heapq\n",
    "\n",
    "\n",
    "# Here specified the true reward of each machine\n",
    "def f(x):\n",
    "    return x*(np.sin(x)+1)\n",
    "\n",
    "#Inputs are:\n",
    "#Your initial choice\n",
    "#Your true value(function)\n",
    "#Number of machines\n",
    "\n",
    "def armedbandit(choice,f,m,eps):\n",
    "    x = np.atleast_2d(np.linspace(0.001, 10, m)).T\n",
    "    \n",
    "    # Randomly set initial values to be appended\n",
    "    point_append_after = 0.5\n",
    "    point_append_before = 0\n",
    "    choice2 = list(choice)\n",
    "    \n",
    "    X = np.atleast_2d(choice).T\n",
    "    y = norm.rvs(f(X).ravel(), 1)\n",
    "    gp = gaussian_process.GaussianProcess(theta0=1e-2, thetaL=1e-4, thetaU=1e-1)\n",
    "    gp.fit(X, y)\n",
    "    y_pred, sigma2_pred = gp.predict(x, eval_MSE=True)\n",
    "    sigma = np.sqrt(sigma2_pred)\n",
    "    ch = [int(i*m*0.1)-1 for i in choice]\n",
    "    choice_ = y_pred[ch]\n",
    "    mu_plus = choice_[np.argmax(choice_)]\n",
    "    seq = norm.cdf((y_pred - mu_plus-eps)/sigma)\n",
    "    point_append_after = x[np.argmax(seq)]\n",
    "    choice.append(point_append_after[0])\n",
    "    \n",
    "    # When the points are not changing, stop and return\n",
    "    #while(point_append_before - point_append_after != 0):\n",
    "    j = 1\n",
    "    for i in range(60):\n",
    "\n",
    "        # The largest reward         \n",
    "        # Fit Gaussian Process\n",
    "        X = np.atleast_2d(choice).T\n",
    "        y_new = norm.rvs(f(choice[-1]), sigma[np.where(x == choice[-1])[0][0]])\n",
    "        y = np.append(y, y_new) \n",
    "        gp = gaussian_process.GaussianProcess(theta0=1e-2, thetaL=1e-4, thetaU=1e-1)\n",
    "        gp.fit(X, y)\n",
    "        y_pred, sigma2_pred = gp.predict(x, eval_MSE=True)\n",
    "        sigma = np.sqrt(sigma2_pred)\n",
    "        \n",
    "        ch = [int(i*m*0.1)-1 for i in choice]\n",
    "        choice_ = y_pred[ch]\n",
    "        mu_plus = choice_[np.argmax(choice_)]\n",
    "\n",
    "        fig = plt.figure(figsize=(10, 5))\n",
    "        plt.plot(x,f(x))\n",
    "        plt.plot(x, y_pred, 'b-', label=u'Prediction')\n",
    "        plt.plot(X, y, 'r.', markersize=10, label=u'Observations')\n",
    "        plt.fill(np.concatenate([x, x[::-1]]),\n",
    "                np.concatenate([y_pred - 3 * sigma,\n",
    "                               (y_pred + 3 * sigma)[::-1]]),\n",
    "                alpha=.5, fc='b', ec='None', label='95% confidence interval')\n",
    "        #plt.legend(loc='upper left')\n",
    "        #plt.title(\"Approximating true function with more data\",size=16)\n",
    "        #if j % 2 == 1:\n",
    "        #plt.savefig('testplot' + str(j) +'.png')\n",
    "        j +=1\n",
    "        plt.close(fig)\n",
    "        \n",
    "        point_append_before = point_append_after\n",
    "        \n",
    "        seq = norm.cdf((y_pred - mu_plus-eps)/sigma)\n",
    "        \n",
    "        #point_append_after = (np.argmax(seq)+1)*10/m\n",
    "        point_append_after = x[np.argmax(seq)]\n",
    "\n",
    "        i = 1\n",
    "        while point_append_after == point_append_before:\n",
    "            point_append_after = np.array([np.min(heapq.nlargest(i, choice))])\n",
    "            i = i + 1\n",
    "            print(i)\n",
    "        #choice2.append(point_append_after)\n",
    "        #if point_append_after in choice:\n",
    "        #    choice.append(choice[-1])\n",
    "        #    continue\n",
    "        choice.append(point_append_after[0])\n",
    "\n",
    "    \n",
    "        \n",
    "    # Gaussian Processes in scikit-learn is still under developing, might not be able to return the choice list\n",
    "    return(choice, y)"
   ]
  },
  {
   "cell_type": "code",
   "execution_count": 2,
   "metadata": {
    "collapsed": false
   },
   "outputs": [],
   "source": [
    "m = 10000\n",
    "choice = [2,9]\n",
    "machine, reward = armedbandit(choice, f, m,0.01)"
   ]
  },
  {
   "cell_type": "code",
   "execution_count": 3,
   "metadata": {
    "collapsed": false
   },
   "outputs": [
    {
     "data": {
      "image/png": "[encoded data removed]",
      "text/plain": [
       "<matplotlib.figure.Figure at 0x115ff3860>"
      ]
     },
     "metadata": {},
     "output_type": "display_data"
    }
   ],
   "source": [
    "plt.figure()\n",
    "plt.plot(np.cumsum(reward),label = \"Reward\")\n",
    "regret = np.cumsum(f(8) - reward)\n",
    "plt.plot(regret, label = \"Regret\")\n",
    "plt.legend(loc='upper left')\n",
    "#plt.savefig('reward_regret.png')\n",
    "pass"
   ]
  },
  {
   "cell_type": "code",
   "execution_count": null,
   "metadata": {
    "collapsed": true
   },
   "outputs": [],
   "source": []
  }
 ],
 "metadata": {
  "kernelspec": {
   "display_name": "Python 3",
   "language": "python",
   "name": "python3"
  },
  "language_info": {
   "codemirror_mode": {
    "name": "ipython",
    "version": 3
   },
   "file_extension": ".py",
   "mimetype": "text/x-python",
   "name": "python",
   "nbconvert_exporter": "python",
   "pygments_lexer": "ipython3",
   "version": "3.5.1"
  }
 },
 "nbformat": 4,
 "nbformat_minor": 0
}
