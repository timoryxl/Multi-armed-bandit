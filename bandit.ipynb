{
 "cells": [
  {
   "cell_type": "code",
   "execution_count": 275,
   "metadata": {
    "collapsed": true
   },
   "outputs": [],
   "source": [
    "import numpy as np\n",
    "import matplotlib.pyplot as plt\n",
    "import warnings\n",
    "from scipy.stats import bernoulli, beta\n",
    "from scipy.optimize import minimize\n",
    "%matplotlib inline"
   ]
  },
  {
   "cell_type": "code",
   "execution_count": 391,
   "metadata": {
    "collapsed": false
   },
   "outputs": [],
   "source": [
    "def policy(a1, b1, a2, b2, method):\n",
    "    \"\"\"\n",
    "    \n",
    "    1. policy to determine which machine to select\n",
    "    2. returns 0 or 1\n",
    "    3. inputs (a1,a2,b1,b2) should be integers\n",
    "    4. method should be either exploitation, exploration or proportion\n",
    "    \n",
    "    \"\"\"\n",
    "    \n",
    "    if method == 'exploitation':\n",
    "        return 0 if float(a1)/(a1+b1) > float(a2)/(a2+b2) else 1\n",
    "    \n",
    "    elif method == 'exploration':\n",
    "        return bernoulli.rvs(0.5)\n",
    "    \n",
    "    elif method == 'proportion':\n",
    "        return 0 if beta.rvs(a1,b1) > beta.rvs(a2,b2) else 1\n",
    "    "
   ]
  },
  {
   "cell_type": "code",
   "execution_count": 393,
   "metadata": {
    "collapsed": false
   },
   "outputs": [
    {
     "name": "stdout",
     "output_type": "stream",
     "text": [
      "method:  exploration\n",
      "number of times machine i selected:  (47, 53)\n",
      "total rewards:  26.0\n"
     ]
    }
   ],
   "source": [
    "\"\"\"\n",
    "1. Need to make this into a function\n",
    "2. Generalize code to work with > 2 machines\n",
    "\"\"\"\n",
    "\n",
    "# remove numpy warnings for indexing with non-integers\n",
    "with warnings.catch_warnings():\n",
    "    warnings.simplefilter(\"ignore\")\n",
    "    \n",
    "    N = 100\n",
    "    method = 'exploration'\n",
    "\n",
    "    machine = np.empty(N)\n",
    "    reward = np.empty(N)\n",
    "    theta = np.array([[1,1], # machine 1\n",
    "                      [1,1]  # machine 2\n",
    "                     ])\n",
    "\n",
    "    for t in range(N):\n",
    "\n",
    "        machine[t] = policy(theta[0][0],\n",
    "                            theta[0][1],\n",
    "                            theta[1][0],\n",
    "                            theta[1][1], method)\n",
    "\n",
    "        # beta posterior expected value\n",
    "        reward_theta = float(theta[machine[t]][0])/( theta[machine[t]][0] + theta[machine[t]][1] ) \n",
    "\n",
    "        reward[t] = bernoulli.rvs(reward_theta)\n",
    "\n",
    "        if reward[t] == 1:\n",
    "            theta[machine[t]][0] += 1 \n",
    "        else:\n",
    "            theta[machine[t]][1] += 1\n",
    "\n",
    "    print \"method: \", method\n",
    "    print \"number of times machine i selected: \", (np.sum(machine == 0),np.sum(machine == 1))\n",
    "    print \"total rewards: \", sum(reward)"
   ]
  },
  {
   "cell_type": "code",
   "execution_count": null,
   "metadata": {
    "collapsed": true
   },
   "outputs": [],
   "source": []
  },
  {
   "cell_type": "code",
   "execution_count": 484,
   "metadata": {
    "collapsed": false
   },
   "outputs": [],
   "source": [
    "# assume N = 3; 4**0 + 4**1 + 4**2 = 21 possibilities\n",
    "# pvector is probability of choosing machine 1 (out of 2 machines)\n",
    "# policy is a Bernoulli with probability pvec_i for each i\n",
    "\n",
    "def infinite(x1, x21, x22, x2):\n",
    "    \n",
    "    return {(0,1,1,1,1) : bernoulli.rvs(x),\n",
    "            (1,2,1,1,1) : bernoulli.rvs(x),\n",
    "            (2,3,1,1,1) : bernoulli.rvs(x),\n",
    "            (2,2,2,1,1) : bernoulli.rvs(x),\n",
    "            (2,2,1,2,1) : bernoulli.rvs(x),\n",
    "            (2,2,1,1,2) : bernoulli.rvs(x),\n",
    "            (1,1,2,1,1) : bernoulli.rvs(x),\n",
    "            (2,2,2,1,1) : bernoulli.rvs(x),\n",
    "            (2,1,3,1,1) : bernoulli.rvs(x),\n",
    "            (2,1,2,2,1) : bernoulli.rvs(x),\n",
    "            (2,1,2,1,2) : bernoulli.rvs(x),\n",
    "            (1,1,1,2,1) : bernoulli.rvs(x),\n",
    "            (2,2,1,2,1) : bernoulli.rvs(x),\n",
    "            (2,1,2,2,1) : bernoulli.rvs(x),\n",
    "            (2,1,1,3,1) : bernoulli.rvs(x),\n",
    "            (2,1,1,2,2) : bernoulli.rvs(x),\n",
    "            (1,1,1,1,2) : bernoulli.rvs(x),\n",
    "            (2,2,1,1,2) : bernoulli.rvs(x),\n",
    "            (2,1,2,1,2) : bernoulli.rvs(x),\n",
    "            (2,1,1,2,2) : bernoulli.rvs(x),\n",
    "            (2,1,1,1,3) : bernoulli.rvs(x)\n",
    "            }\n"
   ]
  },
  {
   "cell_type": "code",
   "execution_count": 494,
   "metadata": {
    "collapsed": false
   },
   "outputs": [],
   "source": [
    "\n",
    "def calc_reward(x):\n",
    "\n",
    "    # remove numpy warnings for indexing with non-integers\n",
    "    with warnings.catch_warnings():\n",
    "        warnings.simplefilter(\"ignore\")\n",
    "\n",
    "        N = 3\n",
    "        method = 'exploration'\n",
    "\n",
    "        machine = np.empty(N)\n",
    "        reward = np.empty(N)\n",
    "        theta = np.array([[1,1], # machine 1\n",
    "                          [1,1]  # machine 2\n",
    "                         ])\n",
    "\n",
    "        for t in range(N):\n",
    "\n",
    "            idx = (t,theta[0][0],theta[0][1],theta[1][0],theta[1][1])\n",
    "\n",
    "            machine[t] = infinite(x)[idx]\n",
    "\n",
    "            # beta posterior expected value\n",
    "            reward_theta = float(theta[machine[t]][0])/( theta[machine[t]][0] + theta[machine[t]][1] ) \n",
    "\n",
    "            reward[t] = bernoulli.rvs(reward_theta)\n",
    "\n",
    "            if reward[t] == 1:\n",
    "                theta[machine[t]][0] += 1 \n",
    "            else:\n",
    "                theta[machine[t]][1] += 1\n",
    "\n",
    "#         print \"method: \", method\n",
    "#         print \"number of times machine i selected: \", (np.sum(machine == 0),np.sum(machine == 1))\n",
    "#         print \"total rewards: \", sum(reward)\n",
    "        \n",
    "        return sum(reward)"
   ]
  },
  {
   "cell_type": "code",
   "execution_count": 504,
   "metadata": {
    "collapsed": false,
    "scrolled": false
   },
   "outputs": [
    {
     "data": {
      "text/plain": [
       "     fun: 3.0\n",
       "     jac: array([  1.00000000e+08])\n",
       " message: 'Converged (|x_n-x_(n-1)| ~= 0)'\n",
       "    nfev: 8\n",
       "     nit: 1\n",
       "  status: 2\n",
       " success: True\n",
       "       x: array([ 0.75])"
      ]
     },
     "execution_count": 504,
     "metadata": {},
     "output_type": "execute_result"
    }
   ],
   "source": [
    "minimize(calc_reward, x0 = 0.75, method='TNC', bounds=((0,1),))"
   ]
  },
  {
   "cell_type": "code",
   "execution_count": null,
   "metadata": {
    "collapsed": true
   },
   "outputs": [],
   "source": []
  }
 ],
 "metadata": {
  "kernelspec": {
   "display_name": "Python 2",
   "language": "python",
   "name": "python2"
  },
  "language_info": {
   "codemirror_mode": {
    "name": "ipython",
    "version": 2
   },
   "file_extension": ".py",
   "mimetype": "text/x-python",
   "name": "python",
   "nbconvert_exporter": "python",
   "pygments_lexer": "ipython2",
   "version": "2.7.10"
  }
 },
 "nbformat": 4,
 "nbformat_minor": 0
}
