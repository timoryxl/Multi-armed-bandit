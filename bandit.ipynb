{
 "cells": [
  {
   "cell_type": "code",
   "execution_count": 275,
   "metadata": {
    "collapsed": true
   },
   "outputs": [],
   "source": [
    "import numpy as np\n",
    "import matplotlib.pyplot as plt\n",
    "import warnings\n",
    "from scipy.stats import bernoulli, beta\n",
    "from scipy.optimize import minimize\n",
    "%matplotlib inline"
   ]
  },
  {
   "cell_type": "code",
   "execution_count": 807,
   "metadata": {
    "collapsed": false
   },
   "outputs": [],
   "source": [
    "def policy(a1, b1, a2, b2, method):\n",
    "    \"\"\"\n",
    "    \n",
    "    1. policy to determine which machine to select\n",
    "    2. returns 0 or 1\n",
    "    3. inputs (a1,a2,b1,b2) should be integers\n",
    "    4. method should be either exploitation, exploration or proportion\n",
    "    \n",
    "    \"\"\"\n",
    "    \n",
    "    if method == 'exploitation':\n",
    "        return 0 if float(a1)/(a1+b1) > float(a2)/(a2+b2) else 1\n",
    "    \n",
    "    elif method == 'exploration':\n",
    "        return bernoulli.rvs(0.5)\n",
    "    \n",
    "    elif method == 'thompson':\n",
    "        return 0 if beta.rvs(a1,b1) > beta.rvs(a2,b2) else 1\n",
    "    "
   ]
  },
  {
   "cell_type": "code",
   "execution_count": 808,
   "metadata": {
    "collapsed": false
   },
   "outputs": [
    {
     "name": "stdout",
     "output_type": "stream",
     "text": [
      "method:  exploration\n",
      "number of times machine i selected:  (48, 52)\n",
      "total rewards:  56.0\n"
     ]
    }
   ],
   "source": [
    "\"\"\"\n",
    "1. Need to make this into a function\n",
    "2. Generalize code to work with > 2 machines\n",
    "\"\"\"\n",
    "\n",
    "# remove numpy warnings for indexing with non-integers\n",
    "with warnings.catch_warnings():\n",
    "    warnings.simplefilter(\"ignore\")\n",
    "    \n",
    "    N = 100\n",
    "    method = 'exploration'\n",
    "\n",
    "    machine = np.empty(N)\n",
    "    reward = np.empty(N)\n",
    "    theta = np.array([[1,1], # machine 1\n",
    "                      [1,1]  # machine 2\n",
    "                     ])\n",
    "\n",
    "    for t in range(N):\n",
    "\n",
    "        machine[t] = policy(theta[0][0],\n",
    "                            theta[0][1],\n",
    "                            theta[1][0],\n",
    "                            theta[1][1], method)\n",
    "\n",
    "        # beta posterior expected value\n",
    "        reward_theta = float(theta[machine[t]][0])/( theta[machine[t]][0] + theta[machine[t]][1] ) \n",
    "\n",
    "        reward[t] = bernoulli.rvs(reward_theta)\n",
    "\n",
    "        if reward[t] == 1:\n",
    "            theta[machine[t]][0] += 1 \n",
    "        else:\n",
    "            theta[machine[t]][1] += 1\n",
    "\n",
    "    print \"method: \", method\n",
    "    print \"number of times machine i selected: \", (np.sum(machine == 0),np.sum(machine == 1))\n",
    "    print \"total rewards: \", sum(reward)"
   ]
  },
  {
   "cell_type": "code",
   "execution_count": 809,
   "metadata": {
    "collapsed": false
   },
   "outputs": [],
   "source": [
    "# assume N = 3; 4**0 + 4**1 + 4**2 = 21 possibilities\n",
    "# pvector is probability of choosing machine 1 (out of 2 machines)\n",
    "# policy is a Bernoulli with probability pvec_i for each i\n",
    "\n",
    "def infinite(x):\n",
    "    \n",
    "    return {(0,1,1,1,1) : bernoulli.rvs(x[0]),\n",
    "            (1,2,1,1,1) : bernoulli.rvs(x[1]),\n",
    "            (2,3,1,1,1) : bernoulli.rvs(x[2]),\n",
    "            (2,2,2,1,1) : bernoulli.rvs(x[3]),\n",
    "            (2,2,1,2,1) : bernoulli.rvs(x[4]),\n",
    "            (2,2,1,1,2) : bernoulli.rvs(x[5]),\n",
    "            (1,1,2,1,1) : bernoulli.rvs(x[6]),\n",
    "            (2,2,2,1,1) : bernoulli.rvs(x[7]),\n",
    "            (2,1,3,1,1) : bernoulli.rvs(x[8]),\n",
    "            (2,1,2,2,1) : bernoulli.rvs(x[9]),\n",
    "            (2,1,2,1,2) : bernoulli.rvs(x[10]),\n",
    "            (1,1,1,2,1) : bernoulli.rvs(x[11]),\n",
    "            (2,2,1,2,1) : bernoulli.rvs(x[12]),\n",
    "            (2,1,2,2,1) : bernoulli.rvs(x[13]),\n",
    "            (2,1,1,3,1) : bernoulli.rvs(x[14]),\n",
    "            (2,1,1,2,2) : bernoulli.rvs(x[15]),\n",
    "            (1,1,1,1,2) : bernoulli.rvs(x[16]),\n",
    "            (2,2,1,1,2) : bernoulli.rvs(x[17]),\n",
    "            (2,1,2,1,2) : bernoulli.rvs(x[18]),\n",
    "            (2,1,1,2,2) : bernoulli.rvs(x[19]),\n",
    "            (2,1,1,1,3) : bernoulli.rvs(x[20])\n",
    "            }\n"
   ]
  },
  {
   "cell_type": "code",
   "execution_count": 825,
   "metadata": {
    "collapsed": false
   },
   "outputs": [],
   "source": [
    "def rewards(method):\n",
    "    # remove numpy warnings for indexing with non-integers\n",
    "    with warnings.catch_warnings():\n",
    "        warnings.simplefilter(\"ignore\")\n",
    "\n",
    "        N = 100\n",
    "        #method = 'proportion'\n",
    "\n",
    "        machine = np.empty(N)\n",
    "        reward = np.empty(N)\n",
    "        theta = np.array([[1,1], # machine 1\n",
    "                          [1,1]  # machine 2\n",
    "                         ])\n",
    "\n",
    "        for t in range(N):\n",
    "\n",
    "            machine[t] = policy(theta[0][0],\n",
    "                                theta[0][1],\n",
    "                                theta[1][0],\n",
    "                                theta[1][1], method)\n",
    "\n",
    "            # beta posterior expected value\n",
    "            reward_theta = float(theta[machine[t]][0])/( theta[machine[t]][0] + theta[machine[t]][1] ) \n",
    "\n",
    "            reward[t] = bernoulli.rvs(reward_theta)\n",
    "\n",
    "            if reward[t] == 1:\n",
    "                theta[machine[t]][0] += 1 \n",
    "            else:\n",
    "                theta[machine[t]][1] += 1\n",
    "            \n",
    "        return sum(reward)"
   ]
  },
  {
   "cell_type": "code",
   "execution_count": 845,
   "metadata": {
    "collapsed": false
   },
   "outputs": [],
   "source": [
    "explore = []\n",
    "exploit = []\n",
    "thompson = []\n",
    "for i in range(100):\n",
    "    explore.append(rewards('exploration'))\n",
    "    exploit.append(rewards('exploitation'))\n",
    "    thompson.append(rewards('thompson'))"
   ]
  },
  {
   "cell_type": "code",
   "execution_count": 846,
   "metadata": {
    "collapsed": false
   },
   "outputs": [
    {
     "data": {
      "text/plain": [
       "[<matplotlib.lines.Line2D at 0x11a24da10>]"
      ]
     },
     "execution_count": 846,
     "metadata": {},
     "output_type": "execute_result"
    },
    {
     "data": {
      "image/png": "[encoded data removed]",
      "text/plain": [
       "<matplotlib.figure.Figure at 0x11a17e150>"
      ]
     },
     "metadata": {},
     "output_type": "display_data"
    }
   ],
   "source": [
    "plt.plot(np.cumsum(explore))\n",
    "plt.plot(np.cumsum(exploit))\n",
    "plt.plot(np.cumsum(thompson))"
   ]
  },
  {
   "cell_type": "code",
   "execution_count": 770,
   "metadata": {
    "collapsed": true
   },
   "outputs": [],
   "source": [
    "rewards(running_total)"
   ]
  },
  {
   "cell_type": "code",
   "execution_count": 704,
   "metadata": {
    "collapsed": false
   },
   "outputs": [],
   "source": [
    "def calc_reward(x):\n",
    "\n",
    "    # remove numpy warnings for indexing with non-integers\n",
    "    with warnings.catch_warnings():\n",
    "        warnings.simplefilter(\"ignore\")\n",
    "\n",
    "        N = 3\n",
    "   #     method = 'exploration'\n",
    "\n",
    "        machine = np.empty(N)\n",
    "        reward = np.empty(N)\n",
    "        theta = np.array([[1,1], # machine 1\n",
    "                          [1,1]  # machine 2\n",
    "                         ])\n",
    "\n",
    "        for t in range(N):\n",
    "\n",
    "            idx = (t,theta[0][0],theta[0][1],theta[1][0],theta[1][1])\n",
    "\n",
    "            machine[t] = infinite(x)[idx]\n",
    "\n",
    "            # beta posterior expected value\n",
    "            reward_theta = float(theta[machine[t]][0])/( theta[machine[t]][0] + theta[machine[t]][1] ) \n",
    "\n",
    "            reward[t] = 1/reward_theta*np.random.randn() + reward_theta\n",
    "\n",
    "            if reward[t] > 0:\n",
    "                theta[machine[t]][0] += 1 \n",
    "            else:\n",
    "                theta[machine[t]][1] += 1\n",
    "\n",
    "#         print \"method: \", method\n",
    "#         print \"number of times machine i selected: \", (np.sum(machine == 0),np.sum(machine == 1))\n",
    "#         print \"total rewards: \", sum(reward)\n",
    "        \n",
    "        return sum(reward)"
   ]
  },
  {
   "cell_type": "code",
   "execution_count": 719,
   "metadata": {
    "collapsed": false
   },
   "outputs": [],
   "source": [
    "space = [0.1,0.4,0.8]\n",
    "\n",
    "def search_space(reward_dict):\n",
    "\n",
    "    for i1 in space:\n",
    "        for i2 in space:\n",
    "            for i3 in space:\n",
    "                for i4 in space:\n",
    "                    for i5 in space:\n",
    "#                    for i6 in space:\n",
    "#                        for i7 in space:\n",
    "#                            for i8 in space:\n",
    "#                                 for i9 in space:\n",
    "#                                     for i10 in space:\n",
    "#                                         for i11 in space:\n",
    "#                                             for i12 in space:\n",
    "#                                                 for i13 in space:\n",
    "#                                                     for i14 in space:\n",
    "#                                                         for i15 in space:\n",
    "#                                                             for i16 in space:\n",
    "#                                                                 for i17 in space:\n",
    "#                                                                     for i18 in space:\n",
    "#                                                                         for i19 in space:\n",
    "#                                                                             for i20 in space:\n",
    "#                                                                                 for i21 in space:\n",
    "                        x = [i1,i2,i3,i4,i5,.5,.5,.5,0.5,0.5,0.5,0.5,0.5,0.5,0.5,0.5,0.5,0.5,0.5,0.5,0.5,0.5,0.5]#,i9,i10,i11,i12,i13,i14,i15,i16,i17,i18,i19,i20,i21]\n",
    "                        try:\n",
    "                            reward_dict[(i1,i2,i3,i4,i5)] += calc_reward(x)\n",
    "                        except:\n",
    "                            reward_dict[(i1,i2,i3,i4,i5)] = calc_reward(x)\n",
    "\n",
    "                    #print x[:4], reward_dict[(i1,i2,i3,i4)]\n",
    "    \n",
    "#    return calc_reward(x)\n",
    "    "
   ]
  },
  {
   "cell_type": "code",
   "execution_count": 720,
   "metadata": {
    "collapsed": false
   },
   "outputs": [],
   "source": [
    "reward_dict = {}\n",
    "for i in range(100):\n",
    "    search_space(reward_dict)"
   ]
  },
  {
   "cell_type": "code",
   "execution_count": 721,
   "metadata": {
    "collapsed": false
   },
   "outputs": [
    {
     "data": {
      "text/plain": [
       "{(0.1, 0.1, 0.1, 0.1, 0.1): 162.0553744841707,\n",
       " (0.1, 0.1, 0.1, 0.1, 0.4): 155.80442303032046,\n",
       " (0.1, 0.1, 0.1, 0.1, 0.8): 199.95775178641003,\n",
       " (0.1, 0.1, 0.1, 0.4, 0.1): 170.89408965762871,\n",
       " (0.1, 0.1, 0.1, 0.4, 0.4): 108.4996039490775,\n",
       " (0.1, 0.1, 0.1, 0.4, 0.8): 208.26987896383949,\n",
       " (0.1, 0.1, 0.1, 0.8, 0.1): 169.71278576958525,\n",
       " (0.1, 0.1, 0.1, 0.8, 0.4): 185.8808162848506,\n",
       " (0.1, 0.1, 0.1, 0.8, 0.8): 93.029077202745526,\n",
       " (0.1, 0.1, 0.4, 0.1, 0.1): 160.81354295649913,\n",
       " (0.1, 0.1, 0.4, 0.1, 0.4): 152.35265087010598,\n",
       " (0.1, 0.1, 0.4, 0.1, 0.8): 139.37605814406177,\n",
       " (0.1, 0.1, 0.4, 0.4, 0.1): 150.96644741939033,\n",
       " (0.1, 0.1, 0.4, 0.4, 0.4): 145.26820587446957,\n",
       " (0.1, 0.1, 0.4, 0.4, 0.8): 171.71560837927299,\n",
       " (0.1, 0.1, 0.4, 0.8, 0.1): 234.85249530732511,\n",
       " (0.1, 0.1, 0.4, 0.8, 0.4): 167.42360107533781,\n",
       " (0.1, 0.1, 0.4, 0.8, 0.8): 180.83082696893391,\n",
       " (0.1, 0.1, 0.8, 0.1, 0.1): 128.86717418201729,\n",
       " (0.1, 0.1, 0.8, 0.1, 0.4): 118.87070105005562,\n",
       " (0.1, 0.1, 0.8, 0.1, 0.8): 130.04089496155299,\n",
       " (0.1, 0.1, 0.8, 0.4, 0.1): 118.14230877687091,\n",
       " (0.1, 0.1, 0.8, 0.4, 0.4): 64.289522215940252,\n",
       " (0.1, 0.1, 0.8, 0.4, 0.8): 167.80389954331289,\n",
       " (0.1, 0.1, 0.8, 0.8, 0.1): 180.37249773157671,\n",
       " (0.1, 0.1, 0.8, 0.8, 0.4): 166.48903039072843,\n",
       " (0.1, 0.1, 0.8, 0.8, 0.8): 153.78891593230256,\n",
       " (0.1, 0.4, 0.1, 0.1, 0.1): 134.9038238108829,\n",
       " (0.1, 0.4, 0.1, 0.1, 0.4): 194.93947133348379,\n",
       " (0.1, 0.4, 0.1, 0.1, 0.8): 131.88626918311766,\n",
       " (0.1, 0.4, 0.1, 0.4, 0.1): 101.1424532400256,\n",
       " (0.1, 0.4, 0.1, 0.4, 0.4): 139.84019583362917,\n",
       " (0.1, 0.4, 0.1, 0.4, 0.8): 88.659361940174549,\n",
       " (0.1, 0.4, 0.1, 0.8, 0.1): 128.44130689093944,\n",
       " (0.1, 0.4, 0.1, 0.8, 0.4): 154.52868413770582,\n",
       " (0.1, 0.4, 0.1, 0.8, 0.8): 142.37402696688829,\n",
       " (0.1, 0.4, 0.4, 0.1, 0.1): 162.39836299828315,\n",
       " (0.1, 0.4, 0.4, 0.1, 0.4): 195.95088044850243,\n",
       " (0.1, 0.4, 0.4, 0.1, 0.8): 169.90714744343967,\n",
       " (0.1, 0.4, 0.4, 0.4, 0.1): 202.09080806110359,\n",
       " (0.1, 0.4, 0.4, 0.4, 0.4): 148.79443965592787,\n",
       " (0.1, 0.4, 0.4, 0.4, 0.8): 113.3762512252013,\n",
       " (0.1, 0.4, 0.4, 0.8, 0.1): 195.40366305819774,\n",
       " (0.1, 0.4, 0.4, 0.8, 0.4): 138.6870240722169,\n",
       " (0.1, 0.4, 0.4, 0.8, 0.8): 124.77256726487829,\n",
       " (0.1, 0.4, 0.8, 0.1, 0.1): 168.27438603339166,\n",
       " (0.1, 0.4, 0.8, 0.1, 0.4): 144.53548550850863,\n",
       " (0.1, 0.4, 0.8, 0.1, 0.8): 151.35489712181283,\n",
       " (0.1, 0.4, 0.8, 0.4, 0.1): 114.10023108151695,\n",
       " (0.1, 0.4, 0.8, 0.4, 0.4): 196.3054076810142,\n",
       " (0.1, 0.4, 0.8, 0.4, 0.8): 159.36447212387907,\n",
       " (0.1, 0.4, 0.8, 0.8, 0.1): 134.97185451730547,\n",
       " (0.1, 0.4, 0.8, 0.8, 0.4): 168.40808883990806,\n",
       " (0.1, 0.4, 0.8, 0.8, 0.8): 110.69902613627967,\n",
       " (0.1, 0.8, 0.1, 0.1, 0.1): 132.39892858577289,\n",
       " (0.1, 0.8, 0.1, 0.1, 0.4): 155.34480008368604,\n",
       " (0.1, 0.8, 0.1, 0.1, 0.8): 152.14613890390331,\n",
       " (0.1, 0.8, 0.1, 0.4, 0.1): 111.3527308497781,\n",
       " (0.1, 0.8, 0.1, 0.4, 0.4): 150.63984612648511,\n",
       " (0.1, 0.8, 0.1, 0.4, 0.8): 139.36666340723929,\n",
       " (0.1, 0.8, 0.1, 0.8, 0.1): 183.35767190256874,\n",
       " (0.1, 0.8, 0.1, 0.8, 0.4): 61.123277787397278,\n",
       " (0.1, 0.8, 0.1, 0.8, 0.8): 173.78031329370788,\n",
       " (0.1, 0.8, 0.4, 0.1, 0.1): 196.61190377604728,\n",
       " (0.1, 0.8, 0.4, 0.1, 0.4): 156.30605976104835,\n",
       " (0.1, 0.8, 0.4, 0.1, 0.8): 161.33536162979638,\n",
       " (0.1, 0.8, 0.4, 0.4, 0.1): 114.08242536001151,\n",
       " (0.1, 0.8, 0.4, 0.4, 0.4): 93.278976496133708,\n",
       " (0.1, 0.8, 0.4, 0.4, 0.8): 154.76781851700605,\n",
       " (0.1, 0.8, 0.4, 0.8, 0.1): 144.55724447250623,\n",
       " (0.1, 0.8, 0.4, 0.8, 0.4): 141.01271117009685,\n",
       " (0.1, 0.8, 0.4, 0.8, 0.8): 150.69362857602258,\n",
       " (0.1, 0.8, 0.8, 0.1, 0.1): 162.6015666110934,\n",
       " (0.1, 0.8, 0.8, 0.1, 0.4): 202.15439165003849,\n",
       " (0.1, 0.8, 0.8, 0.1, 0.8): 135.40634571362929,\n",
       " (0.1, 0.8, 0.8, 0.4, 0.1): 174.29149670993422,\n",
       " (0.1, 0.8, 0.8, 0.4, 0.4): 121.660231250726,\n",
       " (0.1, 0.8, 0.8, 0.4, 0.8): 215.541623596748,\n",
       " (0.1, 0.8, 0.8, 0.8, 0.1): 145.23422961728971,\n",
       " (0.1, 0.8, 0.8, 0.8, 0.4): 168.75049300883197,\n",
       " (0.1, 0.8, 0.8, 0.8, 0.8): 166.28184324381334,\n",
       " (0.4, 0.1, 0.1, 0.1, 0.1): 106.15303827961857,\n",
       " (0.4, 0.1, 0.1, 0.1, 0.4): 138.15681721140484,\n",
       " (0.4, 0.1, 0.1, 0.1, 0.8): 146.04788947791542,\n",
       " (0.4, 0.1, 0.1, 0.4, 0.1): 201.1038503880921,\n",
       " (0.4, 0.1, 0.1, 0.4, 0.4): 157.88522612537923,\n",
       " (0.4, 0.1, 0.1, 0.4, 0.8): 139.68993606582478,\n",
       " (0.4, 0.1, 0.1, 0.8, 0.1): 106.26166583774145,\n",
       " (0.4, 0.1, 0.1, 0.8, 0.4): 143.41733612150875,\n",
       " (0.4, 0.1, 0.1, 0.8, 0.8): 191.07429097600163,\n",
       " (0.4, 0.1, 0.4, 0.1, 0.1): 228.12924392947852,\n",
       " (0.4, 0.1, 0.4, 0.1, 0.4): 221.24498113765063,\n",
       " (0.4, 0.1, 0.4, 0.1, 0.8): 196.78439069875725,\n",
       " (0.4, 0.1, 0.4, 0.4, 0.1): 138.00923579288852,\n",
       " (0.4, 0.1, 0.4, 0.4, 0.4): 195.39072027543753,\n",
       " (0.4, 0.1, 0.4, 0.4, 0.8): 218.01418115856714,\n",
       " (0.4, 0.1, 0.4, 0.8, 0.1): 120.02609243130902,\n",
       " (0.4, 0.1, 0.4, 0.8, 0.4): 191.61092663546503,\n",
       " (0.4, 0.1, 0.4, 0.8, 0.8): 138.28327424455276,\n",
       " (0.4, 0.1, 0.8, 0.1, 0.1): 191.80734462649588,\n",
       " (0.4, 0.1, 0.8, 0.1, 0.4): 172.55134716085468,\n",
       " (0.4, 0.1, 0.8, 0.1, 0.8): 185.75867608052135,\n",
       " (0.4, 0.1, 0.8, 0.4, 0.1): 145.14585153615849,\n",
       " (0.4, 0.1, 0.8, 0.4, 0.4): 144.84854689790765,\n",
       " (0.4, 0.1, 0.8, 0.4, 0.8): 105.86395112932858,\n",
       " (0.4, 0.1, 0.8, 0.8, 0.1): 142.71876962151009,\n",
       " (0.4, 0.1, 0.8, 0.8, 0.4): 183.16940335443428,\n",
       " (0.4, 0.1, 0.8, 0.8, 0.8): 200.48173662145817,\n",
       " (0.4, 0.4, 0.1, 0.1, 0.1): 132.23391318683849,\n",
       " (0.4, 0.4, 0.1, 0.1, 0.4): 143.4049248641131,\n",
       " (0.4, 0.4, 0.1, 0.1, 0.8): 159.60895360391584,\n",
       " (0.4, 0.4, 0.1, 0.4, 0.1): 147.08385269700264,\n",
       " (0.4, 0.4, 0.1, 0.4, 0.4): 212.31281106714391,\n",
       " (0.4, 0.4, 0.1, 0.4, 0.8): 167.7846284713537,\n",
       " (0.4, 0.4, 0.1, 0.8, 0.1): 132.70393719028436,\n",
       " (0.4, 0.4, 0.1, 0.8, 0.4): 209.2563458102579,\n",
       " (0.4, 0.4, 0.1, 0.8, 0.8): 183.01063040559529,\n",
       " (0.4, 0.4, 0.4, 0.1, 0.1): 154.8288573257343,\n",
       " (0.4, 0.4, 0.4, 0.1, 0.4): 211.63353584431795,\n",
       " (0.4, 0.4, 0.4, 0.1, 0.8): 162.86404832777896,\n",
       " (0.4, 0.4, 0.4, 0.4, 0.1): 164.82835752171474,\n",
       " (0.4, 0.4, 0.4, 0.4, 0.4): 88.497430866151291,\n",
       " (0.4, 0.4, 0.4, 0.4, 0.8): 188.7434028681939,\n",
       " (0.4, 0.4, 0.4, 0.8, 0.1): 148.00431960826569,\n",
       " (0.4, 0.4, 0.4, 0.8, 0.4): 214.10717366685637,\n",
       " (0.4, 0.4, 0.4, 0.8, 0.8): 121.93624119730974,\n",
       " (0.4, 0.4, 0.8, 0.1, 0.1): 158.06914889521127,\n",
       " (0.4, 0.4, 0.8, 0.1, 0.4): 135.62715973971882,\n",
       " (0.4, 0.4, 0.8, 0.1, 0.8): 144.65185325811115,\n",
       " (0.4, 0.4, 0.8, 0.4, 0.1): 136.74742015360104,\n",
       " (0.4, 0.4, 0.8, 0.4, 0.4): 192.59992484589313,\n",
       " (0.4, 0.4, 0.8, 0.4, 0.8): 167.93311387810328,\n",
       " (0.4, 0.4, 0.8, 0.8, 0.1): 195.38215113640123,\n",
       " (0.4, 0.4, 0.8, 0.8, 0.4): 166.22637389031684,\n",
       " (0.4, 0.4, 0.8, 0.8, 0.8): 133.68038049859442,\n",
       " (0.4, 0.8, 0.1, 0.1, 0.1): 158.12093639745669,\n",
       " (0.4, 0.8, 0.1, 0.1, 0.4): 137.18806959998474,\n",
       " (0.4, 0.8, 0.1, 0.1, 0.8): 105.69158847633551,\n",
       " (0.4, 0.8, 0.1, 0.4, 0.1): 135.77072992747179,\n",
       " (0.4, 0.8, 0.1, 0.4, 0.4): 146.05996259249775,\n",
       " (0.4, 0.8, 0.1, 0.4, 0.8): 150.76670101289835,\n",
       " (0.4, 0.8, 0.1, 0.8, 0.1): 180.2400938308339,\n",
       " (0.4, 0.8, 0.1, 0.8, 0.4): 169.21459791856199,\n",
       " (0.4, 0.8, 0.1, 0.8, 0.8): 211.45869337094811,\n",
       " (0.4, 0.8, 0.4, 0.1, 0.1): 196.15669643347553,\n",
       " (0.4, 0.8, 0.4, 0.1, 0.4): 203.01898407017615,\n",
       " (0.4, 0.8, 0.4, 0.1, 0.8): 116.03909465102772,\n",
       " (0.4, 0.8, 0.4, 0.4, 0.1): 141.27893474097581,\n",
       " (0.4, 0.8, 0.4, 0.4, 0.4): 165.55607833540256,\n",
       " (0.4, 0.8, 0.4, 0.4, 0.8): 99.751981323838692,\n",
       " (0.4, 0.8, 0.4, 0.8, 0.1): 196.21918742383534,\n",
       " (0.4, 0.8, 0.4, 0.8, 0.4): 148.117115274746,\n",
       " (0.4, 0.8, 0.4, 0.8, 0.8): 177.26432886582077,\n",
       " (0.4, 0.8, 0.8, 0.1, 0.1): 123.19753275115158,\n",
       " (0.4, 0.8, 0.8, 0.1, 0.4): 166.86606911809702,\n",
       " (0.4, 0.8, 0.8, 0.1, 0.8): 114.97298854109316,\n",
       " (0.4, 0.8, 0.8, 0.4, 0.1): 165.42419901450208,\n",
       " (0.4, 0.8, 0.8, 0.4, 0.4): 109.82683814491861,\n",
       " (0.4, 0.8, 0.8, 0.4, 0.8): 149.57550364971905,\n",
       " (0.4, 0.8, 0.8, 0.8, 0.1): 156.33525796963175,\n",
       " (0.4, 0.8, 0.8, 0.8, 0.4): 112.97588372109732,\n",
       " (0.4, 0.8, 0.8, 0.8, 0.8): 135.57690131048008,\n",
       " (0.8, 0.1, 0.1, 0.1, 0.1): 176.92319866691474,\n",
       " (0.8, 0.1, 0.1, 0.1, 0.4): 166.47207378755789,\n",
       " (0.8, 0.1, 0.1, 0.1, 0.8): 194.7852123863631,\n",
       " (0.8, 0.1, 0.1, 0.4, 0.1): 134.10705784524512,\n",
       " (0.8, 0.1, 0.1, 0.4, 0.4): 119.7002435768332,\n",
       " (0.8, 0.1, 0.1, 0.4, 0.8): 83.492251524941665,\n",
       " (0.8, 0.1, 0.1, 0.8, 0.1): 153.26424404970268,\n",
       " (0.8, 0.1, 0.1, 0.8, 0.4): 166.55946053410071,\n",
       " (0.8, 0.1, 0.1, 0.8, 0.8): 124.41535057152664,\n",
       " (0.8, 0.1, 0.4, 0.1, 0.1): 151.52929713635353,\n",
       " (0.8, 0.1, 0.4, 0.1, 0.4): 151.42044790320728,\n",
       " (0.8, 0.1, 0.4, 0.1, 0.8): 196.24600721241578,\n",
       " (0.8, 0.1, 0.4, 0.4, 0.1): 121.01760570213091,\n",
       " (0.8, 0.1, 0.4, 0.4, 0.4): 176.18163092602882,\n",
       " (0.8, 0.1, 0.4, 0.4, 0.8): 168.99597109779464,\n",
       " (0.8, 0.1, 0.4, 0.8, 0.1): 147.45427542615892,\n",
       " (0.8, 0.1, 0.4, 0.8, 0.4): 178.40195912813672,\n",
       " (0.8, 0.1, 0.4, 0.8, 0.8): 123.07679167083347,\n",
       " (0.8, 0.1, 0.8, 0.1, 0.1): 120.9569283475453,\n",
       " (0.8, 0.1, 0.8, 0.1, 0.4): 150.45365269518436,\n",
       " (0.8, 0.1, 0.8, 0.1, 0.8): 133.60613227340389,\n",
       " (0.8, 0.1, 0.8, 0.4, 0.1): 179.94439244107684,\n",
       " (0.8, 0.1, 0.8, 0.4, 0.4): 194.97216679385406,\n",
       " (0.8, 0.1, 0.8, 0.4, 0.8): 193.88663237523267,\n",
       " (0.8, 0.1, 0.8, 0.8, 0.1): 140.64537204297008,\n",
       " (0.8, 0.1, 0.8, 0.8, 0.4): 154.90587727066821,\n",
       " (0.8, 0.1, 0.8, 0.8, 0.8): 248.47037062281584,\n",
       " (0.8, 0.4, 0.1, 0.1, 0.1): 139.36529836537616,\n",
       " (0.8, 0.4, 0.1, 0.1, 0.4): 135.59586958440954,\n",
       " (0.8, 0.4, 0.1, 0.1, 0.8): 202.41272597058273,\n",
       " (0.8, 0.4, 0.1, 0.4, 0.1): 182.77170120186884,\n",
       " (0.8, 0.4, 0.1, 0.4, 0.4): 166.18006466468879,\n",
       " (0.8, 0.4, 0.1, 0.4, 0.8): 187.65530077932749,\n",
       " (0.8, 0.4, 0.1, 0.8, 0.1): 128.21505986411512,\n",
       " (0.8, 0.4, 0.1, 0.8, 0.4): 133.90355726166572,\n",
       " (0.8, 0.4, 0.1, 0.8, 0.8): 206.21329188383774,\n",
       " (0.8, 0.4, 0.4, 0.1, 0.1): 130.24380879096472,\n",
       " (0.8, 0.4, 0.4, 0.1, 0.4): 150.1145800657506,\n",
       " (0.8, 0.4, 0.4, 0.1, 0.8): 111.09644020736329,\n",
       " (0.8, 0.4, 0.4, 0.4, 0.1): 157.40138724415496,\n",
       " (0.8, 0.4, 0.4, 0.4, 0.4): 181.823050732615,\n",
       " (0.8, 0.4, 0.4, 0.4, 0.8): 132.56958504082158,\n",
       " (0.8, 0.4, 0.4, 0.8, 0.1): 219.86514916933589,\n",
       " (0.8, 0.4, 0.4, 0.8, 0.4): 191.08500324552088,\n",
       " (0.8, 0.4, 0.4, 0.8, 0.8): 145.88889907501954,\n",
       " (0.8, 0.4, 0.8, 0.1, 0.1): 162.7441528689572,\n",
       " (0.8, 0.4, 0.8, 0.1, 0.4): 126.68769562430177,\n",
       " (0.8, 0.4, 0.8, 0.1, 0.8): 172.14858721911077,\n",
       " (0.8, 0.4, 0.8, 0.4, 0.1): 187.26572916596811,\n",
       " (0.8, 0.4, 0.8, 0.4, 0.4): 87.440634875017906,\n",
       " (0.8, 0.4, 0.8, 0.4, 0.8): 99.215424621132016,\n",
       " (0.8, 0.4, 0.8, 0.8, 0.1): 197.55826294968057,\n",
       " (0.8, 0.4, 0.8, 0.8, 0.4): 146.35982889096567,\n",
       " (0.8, 0.4, 0.8, 0.8, 0.8): 182.48599122475139,\n",
       " (0.8, 0.8, 0.1, 0.1, 0.1): 169.02410120407723,\n",
       " (0.8, 0.8, 0.1, 0.1, 0.4): 139.89005630079774,\n",
       " (0.8, 0.8, 0.1, 0.1, 0.8): 109.1928999802993,\n",
       " (0.8, 0.8, 0.1, 0.4, 0.1): 232.36268000401552,\n",
       " (0.8, 0.8, 0.1, 0.4, 0.4): 150.13874199356277,\n",
       " (0.8, 0.8, 0.1, 0.4, 0.8): 122.47780736887279,\n",
       " (0.8, 0.8, 0.1, 0.8, 0.1): 182.59663451989442,\n",
       " (0.8, 0.8, 0.1, 0.8, 0.4): 124.81991629923553,\n",
       " (0.8, 0.8, 0.1, 0.8, 0.8): 159.804068414619,\n",
       " (0.8, 0.8, 0.4, 0.1, 0.1): 192.90239985241584,\n",
       " (0.8, 0.8, 0.4, 0.1, 0.4): 121.51001248315568,\n",
       " (0.8, 0.8, 0.4, 0.1, 0.8): 173.71416037424348,\n",
       " (0.8, 0.8, 0.4, 0.4, 0.1): 161.24566939061177,\n",
       " (0.8, 0.8, 0.4, 0.4, 0.4): 218.19694773426522,\n",
       " (0.8, 0.8, 0.4, 0.4, 0.8): 164.15258784167301,\n",
       " (0.8, 0.8, 0.4, 0.8, 0.1): 148.3899579085095,\n",
       " (0.8, 0.8, 0.4, 0.8, 0.4): 117.35216283687338,\n",
       " (0.8, 0.8, 0.4, 0.8, 0.8): 92.498937186070293,\n",
       " (0.8, 0.8, 0.8, 0.1, 0.1): 177.20666959032945,\n",
       " (0.8, 0.8, 0.8, 0.1, 0.4): 157.10989155304785,\n",
       " (0.8, 0.8, 0.8, 0.1, 0.8): 119.80504128231155,\n",
       " (0.8, 0.8, 0.8, 0.4, 0.1): 195.18297088507254,\n",
       " (0.8, 0.8, 0.8, 0.4, 0.4): 129.12120863393088,\n",
       " (0.8, 0.8, 0.8, 0.4, 0.8): 177.56386059959826,\n",
       " (0.8, 0.8, 0.8, 0.8, 0.1): 195.61015913726763,\n",
       " (0.8, 0.8, 0.8, 0.8, 0.4): 198.70437261396151,\n",
       " (0.8, 0.8, 0.8, 0.8, 0.8): 77.386713211814012}"
      ]
     },
     "execution_count": 721,
     "metadata": {},
     "output_type": "execute_result"
    }
   ],
   "source": [
    "reward_dict"
   ]
  },
  {
   "cell_type": "code",
   "execution_count": 739,
   "metadata": {
    "collapsed": false
   },
   "outputs": [],
   "source": [
    "x0 = [0.7]*10 + [0.2]*5 + [0.9]*6"
   ]
  },
  {
   "cell_type": "code",
   "execution_count": 744,
   "metadata": {
    "collapsed": false
   },
   "outputs": [],
   "source": [
    "bnds = [(0,1) for i in range(21)]"
   ]
  },
  {
   "cell_type": "code",
   "execution_count": 745,
   "metadata": {
    "collapsed": false
   },
   "outputs": [
    {
     "data": {
      "text/plain": [
       "3.3056151704780334"
      ]
     },
     "execution_count": 745,
     "metadata": {},
     "output_type": "execute_result"
    }
   ],
   "source": [
    "calc_reward(x0)"
   ]
  },
  {
   "cell_type": "code",
   "execution_count": 746,
   "metadata": {
    "collapsed": false,
    "scrolled": false
   },
   "outputs": [
    {
     "data": {
      "text/plain": [
       "     fun: -1.0726143799827268\n",
       "     jac: array([  9.10497613e+08,  -1.31980905e+08,   5.69694015e+07,\n",
       "         3.95396747e+08,   1.53661600e+08,   2.59511887e+08,\n",
       "         6.32752617e+08,   1.01014661e+09,   5.94241765e+08,\n",
       "         6.77189604e+08,   9.56868825e+08,   9.31749466e+08,\n",
       "         3.60279283e+08,   1.22225801e+09,   2.87802296e+08,\n",
       "         5.44820350e+08,   2.28911261e+08,   8.61129440e+07,\n",
       "         6.93234623e+08,   6.76889021e+08,   6.02840784e+08])\n",
       " message: 'Converged (|x_n-x_(n-1)| ~= 0)'\n",
       "    nfev: 5\n",
       "     nit: 1\n",
       "  status: 2\n",
       " success: True\n",
       "       x: array([ 0.7,  0.7,  0.7,  0.7,  0.7,  0.7,  0.7,  0.7,  0.7,  0.7,  0.2,\n",
       "        0.2,  0.2,  0.2,  0.2,  0.9,  0.9,  0.9,  0.9,  0.9,  0.9])"
      ]
     },
     "execution_count": 746,
     "metadata": {},
     "output_type": "execute_result"
    }
   ],
   "source": [
    "minimize(calc_reward, x0, method='TNC', bounds=bnds)"
   ]
  },
  {
   "cell_type": "code",
   "execution_count": null,
   "metadata": {
    "collapsed": true
   },
   "outputs": [],
   "source": []
  }
 ],
 "metadata": {
  "kernelspec": {
   "display_name": "Python 2",
   "language": "python",
   "name": "python2"
  },
  "language_info": {
   "codemirror_mode": {
    "name": "ipython",
    "version": 2
   },
   "file_extension": ".py",
   "mimetype": "text/x-python",
   "name": "python",
   "nbconvert_exporter": "python",
   "pygments_lexer": "ipython2",
   "version": "2.7.10"
  }
 },
 "nbformat": 4,
 "nbformat_minor": 0
}
