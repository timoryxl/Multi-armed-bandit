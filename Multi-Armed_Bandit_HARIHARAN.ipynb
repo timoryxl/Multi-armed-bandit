{
 "cells": [
  {
   "cell_type": "markdown",
   "metadata": {},
   "source": [
    "Multi Armed Bandit\n",
    "===="
   ]
  },
  {
   "cell_type": "markdown",
   "metadata": {},
   "source": [
    "We formulate a simple bandit scheme involving 2 Machines and a Bernoulli Reward (0 or 1). Each Machine has a latent parameter governing its reward. There are a few possible goals:\n",
    "\n",
    "1. Maximize Total Expected Rewards over N Trials\n",
    "2. Find the \"Best\" Machine in as few trials as possible\n",
    "3. Minimize \"Regret\" = Actual Reward - Reward of Best Action over N Trails\n",
    "\n",
    "We designate the following:\n",
    "\n",
    "$$R_1 = \\text{Reward from Machine 1} \\sim \\text{Bernoulli}(\\theta_1)$$\n",
    "$$R_2 = \\text{Reward from Machine 2} \\sim \\text{Bernoulli}(\\theta_2)$$\n",
    "\n",
    "$$\\theta_1 \\sim \\text{Beta}(\\alpha_1, \\beta_1)$$\n",
    "$$\\theta_2 \\sim \\text{Beta}(\\alpha_2, \\beta_2)$$\n",
    "\n",
    "In the beginning, we have no prior knowledge about either Machine, or more specifically, about the latent parameter governing each Machine. Therefore, we initially set $\\alpha_1, \\alpha_2, \\beta_1, \\beta_2 = 1$\n",
    "\n",
    "Given our goals above, the main question becomes: **How do we choose which Machine to play in each Iteration?** We will refer to this question as our utility or acquisition function $U(\\theta | X) = U(\\alpha_1, \\beta_1, \\alpha_2, \\beta_2 | X)$. The idea of this function is to weigh both exploitation of Machines we know give out a high reward, and exploration of other Machines that could possibly be better."
   ]
  },
  {
   "cell_type": "markdown",
   "metadata": {},
   "source": [
    "As we begin playing and gathering information, we continuously update our parameters of interest based on the outcome. Specifically:\n",
    "\n",
    "1. $U(\\alpha_1, \\beta_1, \\alpha_2, \\beta_2) = j$ \n",
    "    * ( We choose Machine j )\n",
    "2. $R_j = i$  \n",
    "    * ( We play Machine j, and get Reward i )\n",
    "3. If $R_j = 1$:\n",
    "    $\\alpha_j = \\alpha_j + 1$  \n",
    "4. If $R_j = 0$:\n",
    "    $\\beta_j = \\beta_j + 1$  \n",
    "\n",
    "The idea is to update our prior \"belief\" on the success of the individual Machines based on our empirical rewards. $\\alpha$ represents \"success\", while $\\beta$ represents \"failure\""
   ]
  },
  {
   "cell_type": "markdown",
   "metadata": {},
   "source": [
    "Before we discuss how to construct our Acquisition Function $U(\\theta|X)$ which will help us decide which Machine to play at each iteration, we see two interesting points:\n",
    "\n",
    "At time T = 1, we have no prior belief concerning any Machine. Thus, it will not matter which Machine we pick the first time around, though it will influence all subsequent choices.\n",
    "\n",
    "At time T = N, we are at our final trial, and thus are only concerned for the Reward on this trial. As such, we will opt for a **Greedy** approach and pick the Machine with the highest Expected Reward - max($\\frac{\\alpha_1}{\\alpha_1 + \\beta_1}, \\frac{\\alpha_2}{\\alpha_2 + \\beta_2}$)"
   ]
  },
  {
   "cell_type": "markdown",
   "metadata": {},
   "source": [
    "For times T = 2,...,N-1, we must choose the Machine based on the Expected Sum of Future Rewards, based on our framework above: $\\mathbb{E}(\\displaystyle\\sum_{i=1}^{n} R_i)$\n",
    "\n",
    "At time T = t, $\\mathbb{E}(\\displaystyle\\sum_{i=t}^{n} R_i|M_{1:t-1}, R_{1:t-1})$ = $\\mathbb{E}(\\displaystyle\\sum_{i=t+1}^{n} R_i|\\theta)$ + $\\mathbb{E}(R_t|\\theta)$  \n",
    "$M_{1:t}$ = Machines Chosen from times 1 to t  \n",
    "$R_{1:t}$ = Rewards Given from times 1 to t\n",
    "\n",
    "Given we perform N Trials, we construct our Algorithm in a Backwards Fashion:\n",
    "\n",
    "1. For T = N:\n",
    "    * For each node, we choose the **Greedy** option, that is, the one with the maximum expected return.\n",
    "\n",
    "2. For T = N-1\n",
    "    * Given that we know the most optimal choice for the last Trial, we select the Machine on this trial that will give us the maximum Expected **sum** of Rewards\n",
    "    * $\\mathbb{E}(R_{N-1} + R_{N})$, and we know $R_N$ from the previous iteration\n",
    "    \n",
    "3. For T = N-2,...,2:\n",
    "    * We follow the similar intuition as above, choosing the most optimal choice for the maximum Expected sum of rewards, given the optimal choice for all subseqent trials already calculated\n",
    "    * $\\mathbb{E}(\\displaystyle\\sum_{i=T}^{n} R_i)$ = $\\mathbb{E}(\\displaystyle\\sum_{i=t+1}^{n} R_i)$ + $\\mathbb{E}(R_t)$\n",
    "    \n",
    "4. For T = 1:\n",
    "    * From our above note, the first iteration does not matter, as we have no prior knowledge. We select any Machine at random.\n",
    "    \n",
    "\n"
   ]
  },
  {
   "cell_type": "code",
   "execution_count": 1,
   "metadata": {
    "collapsed": true
   },
   "outputs": [],
   "source": [
    "import matplotlib.pyplot as plt\n",
    "%matplotlib inline\n",
    "from sklearn.gaussian_process import GaussianProcess\n",
    "import numpy as np\n",
    "import pandas as pd\n",
    "from scipy.optimize import minimize_scalar"
   ]
  },
  {
   "cell_type": "code",
   "execution_count": 2,
   "metadata": {
    "collapsed": false,
    "scrolled": true
   },
   "outputs": [
    {
     "name": "stdout",
     "output_type": "stream",
     "text": [
      "Trial 1 :  1\n",
      "Trial 2 :  4\n",
      "Trial 3 :  10\n",
      "Trial 4 :  20\n",
      "Trial 5 :  35\n",
      "Trial 6 :  56\n",
      "Trial 7 :  84\n",
      "Trial 8 :  120\n",
      "Trial 9 :  165\n",
      "Trial 10 :  220\n"
     ]
    }
   ],
   "source": [
    "#Code to Generate Number of Nodes at Trial n#\n",
    "def f(a, b, c, d, n):\n",
    "    if n == 1:\n",
    "        return pd.DataFrame(np.array([a,b,c,d])).T\n",
    "    A = [a+1, b, c, d]\n",
    "    B = [a, b+1, c, d]\n",
    "    C = [a, b, c+1, d]\n",
    "    D = [a, b, c, d+1]\n",
    "    Nodes = pd.DataFrame(np.array([A, B, C, D]))\n",
    "    for j in range(2,n):\n",
    "        X = Nodes.shape[0]\n",
    "        Nodes2 = pd.DataFrame()\n",
    "        for i in range(X):\n",
    "            A = Nodes.ix[i,:] + np.array([1,0,0,0])\n",
    "            B = Nodes.ix[i,:] + np.array([0,1,0,0])\n",
    "            C = Nodes.ix[i,:] + np.array([0,0,1,0])\n",
    "            D = Nodes.ix[i,:] + np.array([0,0,0,1]) \n",
    "            Nodes2 = pd.concat([Nodes2, pd.DataFrame(np.array([A, B, C, D]))])\n",
    "        Nodes = pd.DataFrame(pd.DataFrame.drop_duplicates(Nodes2)).reset_index(drop = True)\n",
    "    return Nodes\n",
    "    \n",
    "def num_nodes(n):    \n",
    "    for i in range(n):\n",
    "        print(\"Trial\",i+1,\": \", f(1,1,1,1,i+1).shape[0])\n",
    "            \n",
    "num_nodes(10)"
   ]
  },
  {
   "cell_type": "code",
   "execution_count": 3,
   "metadata": {
    "collapsed": false,
    "scrolled": true
   },
   "outputs": [],
   "source": [
    "def minimize_func(p, E1, E2, E3, E4):\n",
    "    return(-(p*(1 + E1) + p*(0 + E2) + (1-p)*(1 + E3) + (1-p)*(0 + E4)))\n",
    "\n",
    "#Returns Previous Nodes, Finds best choice of machine based on future rewards\n",
    "def Previous_Nodes_Func(a1, b1, a2, b2, N, Final_Nodes):\n",
    "    Previous_Nodes = f(a1,b1,a2,b2,N)\n",
    "    Previous_Nodes.insert(4, 4, 0)\n",
    "    Previous_Nodes.insert(5, 5, 0)\n",
    "    for j in range(Previous_Nodes.shape[0]):\n",
    "        Node = Previous_Nodes.ix[j,0:3]\n",
    "        A = Node + np.array([1,0,0,0])\n",
    "        B = Node + np.array([0,1,0,0])\n",
    "        C = Node + np.array([0,0,1,0])\n",
    "        D = Node + np.array([0,0,0,1])\n",
    "            \n",
    "        E1 = Final_Nodes.values[np.alltrue(Final_Nodes.ix[:,0:3] == A, axis = 1),4]\n",
    "        E2 = Final_Nodes.values[np.alltrue(Final_Nodes.ix[:,0:3] == B, axis = 1),4]\n",
    "        E3 = Final_Nodes.values[np.alltrue(Final_Nodes.ix[:,0:3] == C, axis = 1),4]\n",
    "        E4 = Final_Nodes.values[np.alltrue(Final_Nodes.ix[:,0:3] == D, axis = 1),4]\n",
    "            \n",
    "        choice = np.round(minimize_scalar(minimize_func, method = 'bounded', bounds = [0,1], args = (E1, E2, E3, E4)).x)\n",
    "        Previous_Nodes.ix[j,4] = -minimize_func(choice, E1, E2, E3, E4)\n",
    "        Previous_Nodes.ix[j,5] = choice\n",
    "        \n",
    "    return(Previous_Nodes)\n",
    "\n",
    "#Input:\n",
    "#a1,b1,a2,b2 - Prior Parameters of Machine at CURRENT TRIAL\n",
    "#N - Number of Trials Remaining\n",
    "#\n",
    "#Output:\n",
    "#Choice of Machine at Current Iteration & Expected Sum of Rewards\n",
    "def Bernoulli_Bandit(a1, b1, a2, b2, N):   \n",
    "    \n",
    "    #Create Data Frame of Final Nodes\n",
    "    Final_Nodes = f(a1,b1,a2,b2,N)\n",
    "    \n",
    "    #Create Empty Column to Hold Expected#\n",
    "    Final_Nodes.insert(4, 4, 0)\n",
    "    \n",
    "    #Add Column of Final Expected Result\n",
    "    for i in range(Final_Nodes.shape[0]):\n",
    "        E_1 = Final_Nodes.ix[i,0]/(Final_Nodes.ix[i,0]+Final_Nodes.ix[i,1])\n",
    "        E_2 = Final_Nodes.ix[i,2]/(Final_Nodes.ix[i,2]+Final_Nodes.ix[i,3])\n",
    "        Final_Nodes.ix[i,4] = max(E_1, E_2)\n",
    "\n",
    "    Previous_Node = Final_Nodes\n",
    "    \n",
    "    for j in range(1,N)[::-1]:\n",
    "        Previous_Node = Previous_Nodes_Func(a1, b1, a2, b2, j, Previous_Node)\n",
    "    \n",
    "    return(Previous_Node)"
   ]
  },
  {
   "cell_type": "code",
   "execution_count": 82,
   "metadata": {
    "collapsed": false
   },
   "outputs": [
    {
     "data": {
      "text/html": [
       "<div>\n",
       "<table border=\"1\" class=\"dataframe\">\n",
       "  <thead>\n",
       "    <tr style=\"text-align: right;\">\n",
       "      <th></th>\n",
       "      <th>0</th>\n",
       "      <th>1</th>\n",
       "      <th>2</th>\n",
       "      <th>3</th>\n",
       "      <th>4</th>\n",
       "      <th>5</th>\n",
       "    </tr>\n",
       "  </thead>\n",
       "  <tbody>\n",
       "    <tr>\n",
       "      <th>0</th>\n",
       "      <td>11</td>\n",
       "      <td>11</td>\n",
       "      <td>10</td>\n",
       "      <td>10</td>\n",
       "      <td>5.047619</td>\n",
       "      <td>1</td>\n",
       "    </tr>\n",
       "  </tbody>\n",
       "</table>\n",
       "</div>"
      ],
      "text/plain": [
       "    0   1   2   3         4  5\n",
       "0  11  11  10  10  5.047619  1"
      ]
     },
     "execution_count": 82,
     "metadata": {},
     "output_type": "execute_result"
    }
   ],
   "source": [
    "Bernoulli_Bandit(11, 11, 10, 10, 3)"
   ]
  },
  {
   "cell_type": "code",
   "execution_count": null,
   "metadata": {
    "collapsed": true
   },
   "outputs": [],
   "source": []
  },
  {
   "cell_type": "code",
   "execution_count": 701,
   "metadata": {
    "collapsed": false
   },
   "outputs": [],
   "source": [
    "##Gaussian Process Code##\n",
    "\n",
    "\n",
    "# Simulate data\n",
    "%matplotlib inline\n",
    "import numpy as np\n",
    "from sklearn import gaussian_process\n",
    "import matplotlib.pyplot as plt\n",
    "from scipy.stats import norm\n",
    "import random\n",
    "\n",
    "np.random.seed(146)\n",
    "# m = 10, 20, 100\n",
    "m=10\n",
    "#y = np.array([0.05,0.1,0.3,0.2,0.5])\n",
    "y = np.random.uniform(0.05,0.95,m)\n",
    "# Here specified the true reward of each machine\n",
    "def f(x):\n",
    "    if type(x).__module__ == np.__name__:\n",
    "        x = x.T.astype(int)\n",
    "    if isinstance(x,list):\n",
    "        x = np.asarray(x,int)\n",
    "    return y[x-1]\n"
   ]
  },
  {
   "cell_type": "code",
   "execution_count": 472,
   "metadata": {
    "collapsed": false
   },
   "outputs": [],
   "source": [
    "#Inputs are:\n",
    "\n",
    "#1. Your initial choice\n",
    "#2. Your true value(function)\n",
    "#3. Number of machines\n",
    "#4. Tuning parameter\n",
    "\n",
    "def armedbandit(choice,f,m,eps):\n",
    "    i = 1\n",
    "    x = np.atleast_2d(np.linspace(1, m, m)).T\n",
    "    choice2 = list(choice)\n",
    "    # Randomly set initial values to be appended\n",
    "    point_append_after = 2\n",
    "    point_append_before = 1\n",
    "    maxi = max(f(x)[0])\n",
    "    regret = (maxi - f(choice)).tolist()\n",
    "    \n",
    "    # When the points are not changing, stop and return\n",
    "    while point_append_after != point_append_before:\n",
    "        # The largest reward \n",
    "        mu_plus = f(choice)[np.argmax(f(choice))]\n",
    "        # Fit Gaussian Process\n",
    "        X = np.atleast_2d(choice).T\n",
    "        y = f(X).ravel()\n",
    "        gp = gaussian_process.GaussianProcess(theta0=1e-1, thetaL = 1e-4, thetaU = 1e-1)\n",
    "        gp.fit(X, y)\n",
    "        y_pred, sigma2_pred = gp.predict(x, eval_MSE=True)\n",
    "        sigma = np.sqrt(sigma2_pred)\n",
    "\n",
    "        fig = plt.figure(figsize=(10, 5))\n",
    "        plt.scatter(x, f(x).T, color='darkred', label='True reward')\n",
    "        plt.plot(x, y_pred, 'b-', label='Prediction',linestyle='--')\n",
    "        plt.plot(X, y, 'r.', markersize=10, label='Observations')\n",
    "        plt.fill(np.concatenate([x, x[::-1]]),\n",
    "                np.concatenate([y_pred - 3 * sigma,\n",
    "                               (y_pred + 3 * sigma)[::-1]]),\n",
    "                alpha=.5, fc='b', ec='None', label='95% CI')\n",
    "        plt.legend(loc='upper left')\n",
    "        plt.title(\"Approximating true function with more data\",size=16)\n",
    "        plt.ylabel(\"Expected reward\")\n",
    "        plt.xlabel(\"machines\")\n",
    "        plt.xlim(-5,m+1)\n",
    "        plt.savefig('testplot' + str(i) +'.png')\n",
    "        i +=1\n",
    "        plt.close(fig)\n",
    "        point_append_before = point_append_after\n",
    "        \n",
    "        #Choosing point_append_after\n",
    "        seq = norm.cdf((y_pred - mu_plus-eps)/sigma)\n",
    "        #axis_x = range(1,m+1)\n",
    "        #plt.plot(axis_x,seq)\n",
    "        point_append_after = np.argmax(seq)+1\n",
    "        if point_append_after == point_append_before:\n",
    "            break\n",
    "        choice2.append(point_append_after)\n",
    "        \n",
    "        expected_reward = f([point_append_after])\n",
    "        regret.append((maxi - expected_reward)[0])\n",
    "        \n",
    "        if point_append_after in choice:\n",
    "            continue\n",
    "        choice.append(point_append_after)\n",
    "\n",
    "    return(choice2,regret)"
   ]
  },
  {
   "cell_type": "code",
   "execution_count": 702,
   "metadata": {
    "collapsed": false,
    "scrolled": true
   },
   "outputs": [],
   "source": [
    "m = 10\n",
    "x = np.atleast_2d(np.linspace(1, m, m)).T\n",
    "choice = [2,3]\n",
    "path1,regrets1 = armedbandit(choice,f,m,0.01)\n",
    "path2,regrets2 = armedbandit(choice,f,m,0.1)\n",
    "path3,regrets3 = armedbandit(choice,f,m,1)\n",
    "Best_reward_10 = np.array([max(f(x)[0]),max(f(path1)),max(f(path2)),max(f(path3))])"
   ]
  },
  {
   "cell_type": "code",
   "execution_count": 703,
   "metadata": {
    "collapsed": false
   },
   "outputs": [
    {
     "data": {
      "text/plain": [
       "array([ 0.90031643,  0.90031643,  0.90031643,  0.90031643])"
      ]
     },
     "execution_count": 703,
     "metadata": {},
     "output_type": "execute_result"
    }
   ],
   "source": [
    "Best_reward_10"
   ]
  },
  {
   "cell_type": "code",
   "execution_count": 693,
   "metadata": {
    "collapsed": false,
    "scrolled": true
   },
   "outputs": [],
   "source": [
    "m = 20\n",
    "x = np.atleast_2d(np.linspace(1, m, m)).T\n",
    "choice = [2,3]\n",
    "path1,regrets1 = armedbandit(choice,f,m,0.01)\n",
    "path2,regrets2 = armedbandit(choice,f,m,0.1)\n",
    "path3,regrets3 = armedbandit(choice,f,m,1)\n",
    "Best_reward_20 = np.array([max(f(x)[0]),max(f(path1)),max(f(path2)),max(f(path3))])"
   ]
  },
  {
   "cell_type": "code",
   "execution_count": 694,
   "metadata": {
    "collapsed": false
   },
   "outputs": [
    {
     "data": {
      "text/plain": [
       "array([ 0.94003156,  0.90031643,  0.90031643,  0.94003156])"
      ]
     },
     "execution_count": 694,
     "metadata": {},
     "output_type": "execute_result"
    }
   ],
   "source": [
    "Best_reward_20"
   ]
  },
  {
   "cell_type": "code",
   "execution_count": 699,
   "metadata": {
    "collapsed": false
   },
   "outputs": [],
   "source": [
    "m = 100\n",
    "x = np.atleast_2d(np.linspace(1, m, m)).T\n",
    "choice = [2,3]\n",
    "path1,regrets1 = armedbandit(choice,f,m,0.01)\n",
    "path2,regrets2 = armedbandit(choice,f,m,0.1)\n",
    "path3,regrets3 = armedbandit(choice,f,m,1)\n",
    "Best_reward_100 = np.array([max(f(x)[0]),max(f(path1)),max(f(path2)),max(f(path3))])"
   ]
  },
  {
   "cell_type": "code",
   "execution_count": 700,
   "metadata": {
    "collapsed": false
   },
   "outputs": [
    {
     "data": {
      "text/plain": [
       "array([ 0.94410245,  0.78680679,  0.86021828,  0.86021828])"
      ]
     },
     "execution_count": 700,
     "metadata": {},
     "output_type": "execute_result"
    }
   ],
   "source": [
    "Best_reward_100"
   ]
  },
  {
   "cell_type": "code",
   "execution_count": 704,
   "metadata": {
    "collapsed": false
   },
   "outputs": [
    {
     "data": {
      "text/plain": [
       "array([[ 0.90031643,  0.90031643,  0.90031643,  0.90031643],\n",
       "       [ 0.94003156,  0.90031643,  0.90031643,  0.94003156],\n",
       "       [ 0.94410245,  0.78680679,  0.86021828,  0.86021828]])"
      ]
     },
     "execution_count": 704,
     "metadata": {},
     "output_type": "execute_result"
    }
   ],
   "source": [
    "tune_reward = np.vstack((Best_reward_10,Best_reward_20,Best_reward_100))\n",
    "tune_reward"
   ]
  },
  {
   "cell_type": "code",
   "execution_count": 716,
   "metadata": {
    "collapsed": false
   },
   "outputs": [
    {
     "data": {
      "image/png": "[encoded data removed]",
      "text/plain": [
       "<matplotlib.figure.Figure at 0x1136327b8>"
      ]
     },
     "metadata": {},
     "output_type": "display_data"
    }
   ],
   "source": [
    "plt.figure(figsize=(10, 5))\n",
    "x = [0,1,2]\n",
    "my_xticks = [\"10\", \"20\", \"100\"]\n",
    "plt.xticks(x, my_xticks)\n",
    "\n",
    "plt.plot(x, tune_reward[:,0],label='True best')\n",
    "plt.plot(x, tune_reward[:,1],label='0.01')\n",
    "plt.plot(x, tune_reward[:,2],label='0.1')\n",
    "plt.plot(x, tune_reward[:,3],label='1')\n",
    "plt.legend(loc='lower left')\n",
    "plt.title(\"Tuning parameters effects\",size=16)\n",
    "plt.ylabel(\"Best expected reward\")\n",
    "plt.xlabel(\"Number of machines\")\n",
    "plt.ylim(0.7,1)\n",
    "pass"
   ]
  },
  {
   "cell_type": "code",
   "execution_count": 407,
   "metadata": {
    "collapsed": false
   },
   "outputs": [
    {
     "data": {
      "image/png": "[encoded data removed]",
      "text/plain": [
       "<matplotlib.figure.Figure at 0x1149bd080>"
      ]
     },
     "metadata": {},
     "output_type": "display_data"
    }
   ],
   "source": [
    "plt.plot(np.arange(1, len(regrets1)+1),np.cumsum(regrets1))\n",
    "plt.title(\"Expected accumulated regret plot\",size=16)\n",
    "plt.ylabel(\"Accumulated regret\")\n",
    "plt.xlabel(\"Number of plays\")\n",
    "pass"
   ]
  }
 ],
 "metadata": {
  "kernelspec": {
   "display_name": "Python 3",
   "language": "python",
   "name": "python3"
  },
  "language_info": {
   "codemirror_mode": {
    "name": "ipython",
    "version": 3
   },
   "file_extension": ".py",
   "mimetype": "text/x-python",
   "name": "python",
   "nbconvert_exporter": "python",
   "pygments_lexer": "ipython3",
   "version": "3.5.1"
  }
 },
 "nbformat": 4,
 "nbformat_minor": 0
}
